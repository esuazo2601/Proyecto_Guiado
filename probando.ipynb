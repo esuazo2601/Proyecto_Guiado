{
 "cells": [
  {
   "cell_type": "code",
   "execution_count": 1,
   "metadata": {},
   "outputs": [],
   "source": [
    "import networkx as nx\n",
    "import matplotlib.pyplot as plt\n",
    "import random"
   ]
  },
  {
   "cell_type": "code",
   "execution_count": 2,
   "metadata": {},
   "outputs": [],
   "source": [
    "from NEAT.genome import Genome\n",
    "\n",
    "g1 = Genome(2, 3)"
   ]
  },
  {
   "cell_type": "code",
   "execution_count": 3,
   "metadata": {},
   "outputs": [
    {
     "name": "stdout",
     "output_type": "stream",
     "text": [
      "1 INPUT\n",
      "2 INPUT\n",
      "3 OUTPUT\n",
      "4 OUTPUT\n",
      "5 OUTPUT\n"
     ]
    }
   ],
   "source": [
    "for i in g1.nodes.genes:\n",
    "    print(i.id, i.type)"
   ]
  },
  {
   "cell_type": "code",
   "execution_count": 4,
   "metadata": {},
   "outputs": [
    {
     "name": "stdout",
     "output_type": "stream",
     "text": [
      "(1, 3) 0.40761776813579675 True 1\n",
      "(1, 4) 0.9482080874246052 True 2\n",
      "(1, 5) 0.9918993277714736 True 3\n",
      "(2, 3) 0.4546353905590371 True 4\n",
      "(2, 4) 0.637799787809973 True 5\n",
      "(2, 5) 0.5917539705572082 True 6\n"
     ]
    }
   ],
   "source": [
    "list_edges = []\n",
    "for nodes, conn in g1.connections.genes.items():\n",
    "    print(nodes, conn.Weight, conn.Enabled, conn.Innovation)\n",
    "    if conn.Enabled:\n",
    "        list_edges.append(nodes)"
   ]
  },
  {
   "cell_type": "code",
   "execution_count": 5,
   "metadata": {},
   "outputs": [
    {
     "name": "stdout",
     "output_type": "stream",
     "text": [
      "1 INPUT\n",
      "2 INPUT\n",
      "3 OUTPUT\n",
      "4 OUTPUT\n",
      "5 OUTPUT\n"
     ]
    },
    {
     "data": {
      "image/png": "[encoded data removed]",
      "text/plain": [
       "<Figure size 432x288 with 1 Axes>"
      ]
     },
     "metadata": {},
     "output_type": "display_data"
    }
   ],
   "source": [
    "left_nodes = []\n",
    "middle_nodes = []\n",
    "right_nodes = []\n",
    "\n",
    "for i in g1.nodes.genes:\n",
    "    print(i.id, i.type)\n",
    "    if i.type == \"INPUT\":\n",
    "        left_nodes.append(i.id)\n",
    "    elif i.type == \"HIDDEN\":\n",
    "        middle_nodes.append(i.id)\n",
    "    else:   # OUTPUT\n",
    "        right_nodes.append(i.id)\n",
    "\n",
    "pos = {n: (0, i) for i, n in enumerate(left_nodes)}\n",
    "pos.update({n: (random.uniform(0.5, 1.5), i*random.uniform(0.5, 1.5) + 0.5) for i, n in enumerate(middle_nodes)})\n",
    "pos.update({n: (2, i + 0.5) for i, n in enumerate(right_nodes)})\n",
    "\n",
    "G = nx.DiGraph()\n",
    "G.add_edges_from(list_edges)\n",
    "nx.draw_networkx(G, pos)\n",
    "\n",
    "ax = plt.gca()\n",
    "ax.margins(0.20)\n",
    "plt.axis(\"off\")\n",
    "plt.show()"
   ]
  },
  {
   "cell_type": "code",
   "execution_count": 6,
   "metadata": {},
   "outputs": [],
   "source": [
    "new_node = g1.connections.mutate_add_node(conn)\n",
    "g1.nodes.add_node(new_node)"
   ]
  },
  {
   "cell_type": "code",
   "execution_count": 7,
   "metadata": {},
   "outputs": [
    {
     "name": "stdout",
     "output_type": "stream",
     "text": [
      "(1, 3) 0.40761776813579675 True 1\n",
      "(1, 4) 0.9482080874246052 True 2\n",
      "(1, 5) 0.9918993277714736 True 3\n",
      "(2, 3) 0.4546353905590371 True 4\n",
      "(2, 4) 0.637799787809973 True 5\n",
      "(2, 5) 0.5917539705572082 False 6\n",
      "(2, 6) 0.5917539705572082 True 7\n",
      "(6, 5) 1 True 8\n"
     ]
    }
   ],
   "source": [
    "list_edges = []\n",
    "for nodes, conn in g1.connections.genes.items():\n",
    "    print(nodes, conn.Weight, conn.Enabled, conn.Innovation)\n",
    "    if conn.Enabled:\n",
    "        list_edges.append(nodes)"
   ]
  },
  {
   "cell_type": "code",
   "execution_count": 8,
   "metadata": {},
   "outputs": [
    {
     "name": "stdout",
     "output_type": "stream",
     "text": [
      "1 INPUT\n",
      "2 INPUT\n",
      "3 OUTPUT\n",
      "4 OUTPUT\n",
      "5 OUTPUT\n",
      "6 HIDDEN\n"
     ]
    },
    {
     "data": {
      "image/png": "[encoded data removed]",
      "text/plain": [
       "<Figure size 432x288 with 1 Axes>"
      ]
     },
     "metadata": {},
     "output_type": "display_data"
    }
   ],
   "source": [
    "left_nodes = []\n",
    "middle_nodes = []\n",
    "right_nodes = []\n",
    "\n",
    "for i in g1.nodes.genes:\n",
    "    print(i.id, i.type)\n",
    "    if i.type == \"INPUT\":\n",
    "        left_nodes.append(i.id)\n",
    "    elif i.type == \"HIDDEN\":\n",
    "        middle_nodes.append(i.id)\n",
    "    else:   # OUTPUT\n",
    "        right_nodes.append(i.id)\n",
    "\n",
    "pos = {n: (0, i) for i, n in enumerate(left_nodes)}\n",
    "pos.update({n: (random.uniform(0.5, 1.5), i*random.uniform(0.5, 1.5) + 0.5) for i, n in enumerate(middle_nodes)})\n",
    "pos.update({n: (2, i + 0.5) for i, n in enumerate(right_nodes)})\n",
    "\n",
    "G = nx.DiGraph()\n",
    "G.add_edges_from(list_edges)\n",
    "nx.draw_networkx(G, pos)\n",
    "\n",
    "ax = plt.gca()\n",
    "ax.margins(0.20)\n",
    "plt.axis(\"off\")\n",
    "plt.show()"
   ]
  }
 ],
 "metadata": {
  "kernelspec": {
   "display_name": "Python 3",
   "language": "python",
   "name": "python3"
  },
  "language_info": {
   "codemirror_mode": {
    "name": "ipython",
    "version": 3
   },
   "file_extension": ".py",
   "mimetype": "text/x-python",
   "name": "python",
   "nbconvert_exporter": "python",
   "pygments_lexer": "ipython3",
   "version": "3.9.13"
  },
  "orig_nbformat": 4
 },
 "nbformat": 4,
 "nbformat_minor": 2
}
