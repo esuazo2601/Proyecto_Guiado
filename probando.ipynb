{
 "cells": [
  {
   "cell_type": "code",
   "execution_count": 8,
   "metadata": {},
   "outputs": [
    {
     "ename": "KeyError",
     "evalue": "(1, 2)",
     "output_type": "error",
     "traceback": [
      "\u001b[1;31m---------------------------------------------------------------------------\u001b[0m",
      "\u001b[1;31mKeyError\u001b[0m                                  Traceback (most recent call last)",
      "Cell \u001b[1;32mIn[8], line 7\u001b[0m\n\u001b[0;32m      4\u001b[0m g1 \u001b[39m=\u001b[39m Genes(\u001b[39m1\u001b[39m, \u001b[39m\"\u001b[39m\u001b[39mINPUT\u001b[39m\u001b[39m\"\u001b[39m)\n\u001b[0;32m      5\u001b[0m g2 \u001b[39m=\u001b[39m Genes(\u001b[39m2\u001b[39m, \u001b[39m\"\u001b[39m\u001b[39mOUTPUT\u001b[39m\u001b[39m\"\u001b[39m)\n\u001b[1;32m----> 7\u001b[0m \u001b[39mprint\u001b[39m(Innovation\u001b[39m.\u001b[39;49mget(g1, g2))\n\u001b[0;32m      8\u001b[0m \u001b[39m#print(Innovation.get())\u001b[39;00m\n\u001b[0;32m      9\u001b[0m \u001b[39m#print(Innovation.get())\u001b[39;00m\n\u001b[0;32m     10\u001b[0m \u001b[39m#print(Innovation.get())\u001b[39;00m\n\u001b[0;32m     11\u001b[0m \u001b[39m#print(Innovation.get())\u001b[39;00m\n\u001b[0;32m     12\u001b[0m \u001b[39mprint\u001b[39m(Innovation\u001b[39m.\u001b[39mget(g1, g2))\n",
      "File \u001b[1;32mc:\\Users\\sebas\\OneDrive\\Escritorio\\UdeC\\Quinto Año\\Proyecto Computacional Guiado\\neat\\NEAT\\innovation.py:8\u001b[0m, in \u001b[0;36mInnovation.get\u001b[1;34m(genes1, genes2)\u001b[0m\n\u001b[0;32m      7\u001b[0m \u001b[39mdef\u001b[39;00m \u001b[39mget\u001b[39m(genes1: Genes, genes2: Genes):\n\u001b[1;32m----> 8\u001b[0m     num \u001b[39m=\u001b[39m Innovation\u001b[39m.\u001b[39;49mexists[(genes1\u001b[39m.\u001b[39;49mid, genes2\u001b[39m.\u001b[39;49mid)]         \u001b[39m# Verifica si existe una conexion con numero de innovacion asignado\u001b[39;00m\n\u001b[0;32m      9\u001b[0m     \u001b[39mif\u001b[39;00m num \u001b[39m==\u001b[39m \u001b[39m0\u001b[39m:                                            \u001b[39m# En caso de que no exista, le entregara un valor igual a 0.\u001b[39;00m\n\u001b[0;32m     10\u001b[0m         Innovation\u001b[39m.\u001b[39minnovation \u001b[39m+\u001b[39m\u001b[39m=\u001b[39m \u001b[39m1\u001b[39m                          \u001b[39m# Crea un nuevo Valor de Innovacion\u001b[39;00m\n",
      "\u001b[1;31mKeyError\u001b[0m: (1, 2)"
     ]
    }
   ],
   "source": [
    "from NEAT.innovation import Innovation\n",
    "from NEAT.node_genes import Genes\n",
    "\n",
    "g1 = Genes(1, \"INPUT\")\n",
    "g2 = Genes(2, \"OUTPUT\")\n",
    "\n",
    "print(Innovation.get())\n",
    "#print(Innovation.get())\n",
    "#print(Innovation.get())\n",
    "#print(Innovation.get())\n",
    "#print(Innovation.get())\n",
    "print(Innovation.get())"
   ]
  }
 ],
 "metadata": {
  "kernelspec": {
   "display_name": "Python 3",
   "language": "python",
   "name": "python3"
  },
  "language_info": {
   "codemirror_mode": {
    "name": "ipython",
    "version": 3
   },
   "file_extension": ".py",
   "mimetype": "text/x-python",
   "name": "python",
   "nbconvert_exporter": "python",
   "pygments_lexer": "ipython3",
   "version": "3.11.2"
  },
  "orig_nbformat": 4
 },
 "nbformat": 4,
 "nbformat_minor": 2
}
