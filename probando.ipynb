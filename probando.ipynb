{
 "cells": [
  {
   "cell_type": "code",
   "execution_count": 1,
   "metadata": {},
   "outputs": [],
   "source": [
    "import networkx as nx\n",
    "import matplotlib.pyplot as plt\n",
    "import random"
   ]
  },
  {
   "cell_type": "code",
   "execution_count": 2,
   "metadata": {},
   "outputs": [],
   "source": [
    "from NEAT.genome import Genome\n",
    "\n",
    "g1 = Genome(2, 3)"
   ]
  },
  {
   "cell_type": "code",
   "execution_count": 3,
   "metadata": {},
   "outputs": [],
   "source": [
    "for i in range(20):\n",
    "    g1.mutate()"
   ]
  },
  {
   "cell_type": "code",
   "execution_count": 4,
   "metadata": {},
   "outputs": [
    {
     "name": "stdout",
     "output_type": "stream",
     "text": [
      "1 INPUT\n",
      "2 INPUT\n",
      "3 OUTPUT\n",
      "4 OUTPUT\n",
      "5 OUTPUT\n",
      "6 HIDDEN\n",
      "7 HIDDEN\n",
      "8 HIDDEN\n",
      "9 HIDDEN\n"
     ]
    }
   ],
   "source": [
    "for i in g1.nodes.genes:\n",
    "    print(i.id, i.type)"
   ]
  },
  {
   "cell_type": "code",
   "execution_count": 5,
   "metadata": {},
   "outputs": [
    {
     "name": "stdout",
     "output_type": "stream",
     "text": [
      "(1, 3) -0.003026400000000001 True 1\n",
      "(1, 4) 0.7462702724400008 True 2\n",
      "(1, 5) -0.009438958190592008 False 3\n",
      "(2, 3) -0.022400000000000003 False 4\n",
      "(2, 4) -0.01797025538880001 True 5\n",
      "(2, 5) -9.924314400000009e-05 False 6\n",
      "(2, 6) -0.17640000000000003 True 7\n",
      "(6, 3) 0.3198000000000001 True 8\n",
      "(2, 7) -0.0033776028000000024 True 9\n",
      "(7, 5) 0.5548800000000003 True 10\n",
      "(7, 4) 0.17010000000000006 True 11\n",
      "(1, 8) 0.72 True 12\n",
      "(8, 5) 0.4200000000000001 True 13\n",
      "(2, 9) -0.0068000000000000005 True 14\n",
      "(9, 3) 0.14 True 15\n"
     ]
    }
   ],
   "source": [
    "list_edges = []\n",
    "for nodes, conn in g1.connections.genes.items():\n",
    "    print(nodes, conn.Weight, conn.Enabled, conn.Innovation)\n",
    "    if conn.Enabled:\n",
    "        list_edges.append(nodes)"
   ]
  },
  {
   "cell_type": "code",
   "execution_count": 6,
   "metadata": {},
   "outputs": [
    {
     "name": "stdout",
     "output_type": "stream",
     "text": [
      "1 INPUT\n",
      "2 INPUT\n",
      "3 OUTPUT\n",
      "4 OUTPUT\n",
      "5 OUTPUT\n",
      "6 HIDDEN\n",
      "7 HIDDEN\n",
      "8 HIDDEN\n",
      "9 HIDDEN\n"
     ]
    },
    {
     "data": {
      "image/png": "[encoded data removed]",
      "text/plain": [
       "<Figure size 432x288 with 1 Axes>"
      ]
     },
     "metadata": {},
     "output_type": "display_data"
    }
   ],
   "source": [
    "left_nodes = []\n",
    "middle_nodes = []\n",
    "right_nodes = []\n",
    "\n",
    "for i in g1.nodes.genes:\n",
    "    print(i.id, i.type)\n",
    "    if i.type == \"INPUT\":\n",
    "        left_nodes.append(i.id)\n",
    "    elif i.type == \"HIDDEN\":\n",
    "        middle_nodes.append(i.id)\n",
    "    else:   # OUTPUT\n",
    "        right_nodes.append(i.id)\n",
    "\n",
    "pos = {n: (0, i) for i, n in enumerate(left_nodes)}\n",
    "pos.update({n: (random.uniform(0.5, 1.5), i*random.uniform(0.5, 1.5) + 0.5) for i, n in enumerate(middle_nodes)})\n",
    "pos.update({n: (2, i + 0.5) for i, n in enumerate(right_nodes)})\n",
    "\n",
    "G = nx.DiGraph()\n",
    "G.add_edges_from(list_edges)\n",
    "nx.draw_networkx(G, pos)\n",
    "\n",
    "ax = plt.gca()\n",
    "ax.margins(0.20)\n",
    "plt.axis(\"off\")\n",
    "plt.show()"
   ]
  },
  {
   "cell_type": "code",
   "execution_count": 7,
   "metadata": {},
   "outputs": [],
   "source": [
    "g2 = Genome(2, 3)\n",
    "for i in range(20):\n",
    "    g2.mutate()"
   ]
  },
  {
   "cell_type": "code",
   "execution_count": 8,
   "metadata": {},
   "outputs": [
    {
     "name": "stdout",
     "output_type": "stream",
     "text": [
      "1 INPUT\n",
      "2 INPUT\n",
      "3 OUTPUT\n",
      "4 OUTPUT\n",
      "5 OUTPUT\n",
      "6 HIDDEN\n",
      "7 HIDDEN\n",
      "8 HIDDEN\n"
     ]
    }
   ],
   "source": [
    "for i in g2.nodes.genes:\n",
    "    print(i.id, i.type)"
   ]
  },
  {
   "cell_type": "code",
   "execution_count": 9,
   "metadata": {},
   "outputs": [
    {
     "name": "stdout",
     "output_type": "stream",
     "text": [
      "(1, 3) -0.034422011559936024 False 1\n",
      "(1, 4) -0.8008089600000005 False 2\n",
      "(1, 5) 0.033264000000000016 False 3\n",
      "(2, 3) -0.0028378350000000017 True 4\n",
      "(2, 4) 3.1113073758412826 True 5\n",
      "(2, 5) -0.013988318198400013 True 6\n",
      "(1, 6) 0.0018931200000000007 False 16\n",
      "(6, 5) 1.215 True 17\n",
      "(1, 7) 0.006793818071040005 True 18\n",
      "(7, 3) 0.4200000000000001 True 19\n",
      "(1, 8) -0.006744240000000003 True 12\n",
      "(8, 6) 0.27 True 20\n"
     ]
    }
   ],
   "source": [
    "list_edges2 = []\n",
    "list_conn2 = []\n",
    "for nodes, conn in g2.connections.genes.items():\n",
    "    print(nodes, conn.Weight, conn.Enabled, conn.Innovation)\n",
    "    list_conn2.append(conn)\n",
    "    if conn.Enabled:\n",
    "        list_edges2.append(nodes)"
   ]
  },
  {
   "cell_type": "code",
   "execution_count": 10,
   "metadata": {},
   "outputs": [
    {
     "name": "stdout",
     "output_type": "stream",
     "text": [
      "1 INPUT\n",
      "2 INPUT\n",
      "3 OUTPUT\n",
      "4 OUTPUT\n",
      "5 OUTPUT\n",
      "6 HIDDEN\n",
      "7 HIDDEN\n",
      "8 HIDDEN\n"
     ]
    },
    {
     "data": {
      "image/png": "[encoded data removed]",
      "text/plain": [
       "<Figure size 432x288 with 1 Axes>"
      ]
     },
     "metadata": {},
     "output_type": "display_data"
    }
   ],
   "source": [
    "left_nodes2 = []\n",
    "middle_nodes2 = []\n",
    "right_nodes2 = []\n",
    "\n",
    "for i in g2.nodes.genes:\n",
    "    print(i.id, i.type)\n",
    "    if i.type == \"INPUT\":\n",
    "        left_nodes2.append(i.id)\n",
    "    elif i.type == \"HIDDEN\":\n",
    "        middle_nodes2.append(i.id)\n",
    "    else:   # OUTPUT\n",
    "        right_nodes2.append(i.id)\n",
    "\n",
    "pos = {n: (0, i) for i, n in enumerate(left_nodes2)}\n",
    "pos.update({n: (random.uniform(0.5, 1.5), i*random.uniform(0.5, 1.5) + 0.5) for i, n in enumerate(middle_nodes2)})\n",
    "pos.update({n: (2, i + 0.5) for i, n in enumerate(right_nodes2)})\n",
    "\n",
    "G2 = nx.DiGraph()\n",
    "G2.add_edges_from(list_edges2)\n",
    "nx.draw_networkx(G2, pos)\n",
    "\n",
    "ax = plt.gca()\n",
    "ax.margins(0.20)\n",
    "plt.axis(\"off\")\n",
    "plt.show()"
   ]
  },
  {
   "cell_type": "code",
   "execution_count": 11,
   "metadata": {},
   "outputs": [],
   "source": [
    "from NEAT.species import Species\n",
    "\n",
    "gens = [g1, g2]"
   ]
  },
  {
   "cell_type": "code",
   "execution_count": 12,
   "metadata": {},
   "outputs": [],
   "source": [
    "s = Species(.5, gens, 1, 1, 1)\n",
    "offspring: Genome = s.cross_over(g1, g2)"
   ]
  },
  {
   "cell_type": "code",
   "execution_count": 13,
   "metadata": {},
   "outputs": [
    {
     "name": "stdout",
     "output_type": "stream",
     "text": [
      "1 INPUT\n",
      "2 INPUT\n",
      "3 OUTPUT\n",
      "4 OUTPUT\n",
      "5 OUTPUT\n",
      "6 HIDDEN\n",
      "7 HIDDEN\n",
      "8 HIDDEN\n",
      "9 HIDDEN\n"
     ]
    }
   ],
   "source": [
    "for i in offspring.nodes.genes:\n",
    "    print(i.id, i.type)"
   ]
  },
  {
   "cell_type": "code",
   "execution_count": 14,
   "metadata": {},
   "outputs": [
    {
     "name": "stdout",
     "output_type": "stream",
     "text": [
      "(8, 6) 0.27 True 20\n",
      "(7, 3) 0.4200000000000001 True 19\n",
      "(1, 7) 0.006793818071040005 True 18\n",
      "(6, 5) 1.215 True 17\n",
      "(1, 6) 0.0018931200000000007 False 16\n",
      "(9, 3) 0.14 True 15\n",
      "(2, 9) -0.0068000000000000005 True 14\n",
      "(8, 5) 0.4200000000000001 True 13\n",
      "(1, 8) 0.35662788 True 12\n",
      "(7, 4) 0.17010000000000006 True 11\n",
      "(7, 5) 0.5548800000000003 True 10\n",
      "(2, 7) -0.0033776028000000024 True 9\n",
      "(6, 3) 0.3198000000000001 True 8\n",
      "(2, 6) -0.17640000000000003 True 7\n",
      "(2, 5) -0.0070437806712000065 False 6\n",
      "(2, 4) 1.5466685602262413 True 5\n",
      "(2, 3) -0.012618917500000002 False 4\n",
      "(1, 5) 0.011912520904704004 False 3\n",
      "(1, 4) -0.027269343779999844 True 2\n",
      "(1, 3) -0.01872420577996801 True 1\n"
     ]
    }
   ],
   "source": [
    "list_edges3 = []\n",
    "for nodes, conn in offspring.connections.genes.items():\n",
    "    print(nodes, conn.Weight, conn.Enabled, conn.Innovation)\n",
    "    if conn.Enabled:\n",
    "        list_edges3.append(nodes)"
   ]
  },
  {
   "cell_type": "code",
   "execution_count": 15,
   "metadata": {},
   "outputs": [
    {
     "name": "stdout",
     "output_type": "stream",
     "text": [
      "1 INPUT\n",
      "2 INPUT\n",
      "3 OUTPUT\n",
      "4 OUTPUT\n",
      "5 OUTPUT\n",
      "6 HIDDEN\n",
      "7 HIDDEN\n",
      "8 HIDDEN\n",
      "9 HIDDEN\n"
     ]
    },
    {
     "data": {
      "image/png": "[encoded data removed]",
      "text/plain": [
       "<Figure size 432x288 with 1 Axes>"
      ]
     },
     "metadata": {},
     "output_type": "display_data"
    }
   ],
   "source": [
    "left_nodes3 = []\n",
    "middle_nodes3 = []\n",
    "right_nodes3 = []\n",
    "\n",
    "for i in offspring.nodes.genes:\n",
    "    print(i.id, i.type)\n",
    "    if i.type == \"INPUT\":\n",
    "        left_nodes3.append(i.id)\n",
    "    elif i.type == \"HIDDEN\":\n",
    "        middle_nodes3.append(i.id)\n",
    "    else:   # OUTPUT\n",
    "        right_nodes3.append(i.id)\n",
    "\n",
    "pos = {n: (0, i) for i, n in enumerate(left_nodes3)}\n",
    "pos.update({n: (random.uniform(0.5, 1.5), i*random.uniform(0.5, 1.5) + 0.5) for i, n in enumerate(middle_nodes3)})\n",
    "pos.update({n: (2, i + 0.5) for i, n in enumerate(right_nodes3)})\n",
    "\n",
    "G3 = nx.DiGraph()\n",
    "G3.add_edges_from(list_edges3)\n",
    "nx.draw_networkx(G3, pos)\n",
    "\n",
    "ax = plt.gca()\n",
    "ax.margins(0.20)\n",
    "plt.axis(\"off\")\n",
    "plt.show()"
   ]
  }
 ],
 "metadata": {
  "kernelspec": {
   "display_name": "Python 3",
   "language": "python",
   "name": "python3"
  },
  "language_info": {
   "codemirror_mode": {
    "name": "ipython",
    "version": 3
   },
   "file_extension": ".py",
   "mimetype": "text/x-python",
   "name": "python",
   "nbconvert_exporter": "python",
   "pygments_lexer": "ipython3",
   "version": "3.9.13"
  },
  "orig_nbformat": 4
 },
 "nbformat": 4,
 "nbformat_minor": 2
}
