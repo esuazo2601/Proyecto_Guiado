{
 "cells": [
  {
   "cell_type": "code",
   "execution_count": 1,
   "metadata": {},
   "outputs": [],
   "source": [
    "import networkx as nx\n",
    "import matplotlib.pyplot as plt\n",
    "import random"
   ]
  },
  {
   "cell_type": "code",
   "execution_count": 2,
   "metadata": {},
   "outputs": [],
   "source": [
    "from NEAT.genome import Genome\n",
    "l: list[Genome] = []\n",
    "g = Genome(2, 3)\n",
    "for i in range(5):\n",
    "    l.append(g)"
   ]
  },
  {
   "cell_type": "code",
   "execution_count": 30,
   "metadata": {},
   "outputs": [],
   "source": [
    "for i in range(len(l)):\n",
    "    l[i].mutate()"
   ]
  },
  {
   "cell_type": "code",
   "execution_count": 31,
   "metadata": {},
   "outputs": [
    {
     "name": "stdout",
     "output_type": "stream",
     "text": [
      "(1, 3) -0.01702807142400001 False 1\n",
      "(1, 4) -0.98 False 2\n",
      "(1, 5) 0.6253844889600003 False 3\n",
      "(2, 3) 0.4147200000000001 False 4\n",
      "(2, 4) -0.004252614524928003 True 5\n",
      "(2, 5) -2.5245 True 6\n",
      "(1, 6) 0.05100000000000001 False 7\n",
      "(6, 5) -0.86 True 8\n",
      "(1, 7) 0.022384460986216142 True 9\n",
      "(7, 4) 1.5313036677120009 True 10\n",
      "(7, 6) -0.44400000000000006 True 11\n",
      "(1, 8) 0.0013122000000000003 False 12\n",
      "(8, 3) -0.9 True 13\n",
      "(1, 9) 0.33 True 14\n",
      "(9, 6) 3.0600000000000005 True 15\n",
      "(1, 3) -0.01702807142400001 False 1\n",
      "(1, 4) -0.98 False 2\n",
      "(1, 5) 0.6253844889600003 False 3\n",
      "(2, 3) 0.4147200000000001 False 4\n",
      "(2, 4) -0.004252614524928003 True 5\n",
      "(2, 5) -2.5245 True 6\n",
      "(1, 6) 0.05100000000000001 False 7\n",
      "(6, 5) -0.86 True 8\n",
      "(1, 7) 0.022384460986216142 True 9\n",
      "(7, 4) 1.5313036677120009 True 10\n",
      "(7, 6) -0.44400000000000006 True 11\n",
      "(1, 8) 0.0013122000000000003 False 12\n",
      "(8, 3) -0.9 True 13\n",
      "(1, 9) 0.33 True 14\n",
      "(9, 6) 3.0600000000000005 True 15\n",
      "(1, 3) -0.01702807142400001 False 1\n",
      "(1, 4) -0.98 False 2\n",
      "(1, 5) 0.6253844889600003 False 3\n",
      "(2, 3) 0.4147200000000001 False 4\n",
      "(2, 4) -0.004252614524928003 True 5\n",
      "(2, 5) -2.5245 True 6\n",
      "(1, 6) 0.05100000000000001 False 7\n",
      "(6, 5) -0.86 True 8\n",
      "(1, 7) 0.022384460986216142 True 9\n",
      "(7, 4) 1.5313036677120009 True 10\n",
      "(7, 6) -0.44400000000000006 True 11\n",
      "(1, 8) 0.0013122000000000003 False 12\n",
      "(8, 3) -0.9 True 13\n",
      "(1, 9) 0.33 True 14\n",
      "(9, 6) 3.0600000000000005 True 15\n",
      "(1, 3) -0.01702807142400001 False 1\n",
      "(1, 4) -0.98 False 2\n",
      "(1, 5) 0.6253844889600003 False 3\n",
      "(2, 3) 0.4147200000000001 False 4\n",
      "(2, 4) -0.004252614524928003 True 5\n",
      "(2, 5) -2.5245 True 6\n",
      "(1, 6) 0.05100000000000001 False 7\n",
      "(6, 5) -0.86 True 8\n",
      "(1, 7) 0.022384460986216142 True 9\n",
      "(7, 4) 1.5313036677120009 True 10\n",
      "(7, 6) -0.44400000000000006 True 11\n",
      "(1, 8) 0.0013122000000000003 False 12\n",
      "(8, 3) -0.9 True 13\n",
      "(1, 9) 0.33 True 14\n",
      "(9, 6) 3.0600000000000005 True 15\n",
      "(1, 3) -0.01702807142400001 False 1\n",
      "(1, 4) -0.98 False 2\n",
      "(1, 5) 0.6253844889600003 False 3\n",
      "(2, 3) 0.4147200000000001 False 4\n",
      "(2, 4) -0.004252614524928003 True 5\n",
      "(2, 5) -2.5245 True 6\n",
      "(1, 6) 0.05100000000000001 False 7\n",
      "(6, 5) -0.86 True 8\n",
      "(1, 7) 0.022384460986216142 True 9\n",
      "(7, 4) 1.5313036677120009 True 10\n",
      "(7, 6) -0.44400000000000006 True 11\n",
      "(1, 8) 0.0013122000000000003 False 12\n",
      "(8, 3) -0.9 True 13\n",
      "(1, 9) 0.33 True 14\n",
      "(9, 6) 3.0600000000000005 True 15\n"
     ]
    }
   ],
   "source": [
    "for i in range(len(l)):\n",
    "    for nodes, conn in l[i].connections.genes.items():\n",
    "        print(nodes, conn.Weight, conn.Enabled, conn.Innovation)"
   ]
  },
  {
   "cell_type": "code",
   "execution_count": 2,
   "metadata": {},
   "outputs": [],
   "source": [
    "from NEAT.genome import Genome\n",
    "\n",
    "g1 = Genome(2, 3)"
   ]
  },
  {
   "cell_type": "code",
   "execution_count": 3,
   "metadata": {},
   "outputs": [],
   "source": [
    "for i in range(20):\n",
    "    g1.mutate()"
   ]
  },
  {
   "cell_type": "code",
   "execution_count": 4,
   "metadata": {},
   "outputs": [
    {
     "name": "stdout",
     "output_type": "stream",
     "text": [
      "1 INPUT\n",
      "2 INPUT\n",
      "3 OUTPUT\n",
      "4 OUTPUT\n",
      "5 OUTPUT\n"
     ]
    }
   ],
   "source": [
    "for i in g1.nodes.genes:\n",
    "    print(i.id, i.type)"
   ]
  },
  {
   "cell_type": "code",
   "execution_count": 5,
   "metadata": {},
   "outputs": [
    {
     "name": "stdout",
     "output_type": "stream",
     "text": [
      "(1, 3) 0.08 False 1\n",
      "(1, 4) -1.8144 True 2\n",
      "(1, 5) 0.06726774600000004 True 3\n",
      "(2, 3) -0.0021502921789440027 True 4\n",
      "(2, 4) 1.329256656000001 True 5\n",
      "(2, 5) -0.63 False 6\n"
     ]
    }
   ],
   "source": [
    "list_edges = []\n",
    "for nodes, conn in g1.connections.genes.items():\n",
    "    print(nodes, conn.Weight, conn.Enabled, conn.Innovation)\n",
    "    if conn.Enabled:\n",
    "        list_edges.append(nodes)"
   ]
  },
  {
   "cell_type": "code",
   "execution_count": 6,
   "metadata": {},
   "outputs": [
    {
     "name": "stdout",
     "output_type": "stream",
     "text": [
      "1 INPUT\n",
      "2 INPUT\n",
      "3 OUTPUT\n",
      "4 OUTPUT\n",
      "5 OUTPUT\n"
     ]
    },
    {
     "data": {
      "image/png": "[encoded data removed]",
      "text/plain": [
       "<Figure size 640x480 with 1 Axes>"
      ]
     },
     "metadata": {},
     "output_type": "display_data"
    }
   ],
   "source": [
    "left_nodes = []\n",
    "middle_nodes = []\n",
    "right_nodes = []\n",
    "\n",
    "for i in g1.nodes.genes:\n",
    "    print(i.id, i.type)\n",
    "    if i.type == \"INPUT\":\n",
    "        left_nodes.append(i.id)\n",
    "    elif i.type == \"HIDDEN\":\n",
    "        middle_nodes.append(i.id)\n",
    "    else:   # OUTPUT\n",
    "        right_nodes.append(i.id)\n",
    "\n",
    "pos = {n: (0, i) for i, n in enumerate(left_nodes)}\n",
    "pos.update({n: (random.uniform(0.5, 1.5), i*random.uniform(0.5, 1.5) + 0.5) for i, n in enumerate(middle_nodes)})\n",
    "pos.update({n: (2, i + 0.5) for i, n in enumerate(right_nodes)})\n",
    "\n",
    "G = nx.DiGraph()\n",
    "G.add_edges_from(list_edges)\n",
    "nx.draw_networkx(G, pos)\n",
    "\n",
    "ax = plt.gca()\n",
    "ax.margins(0.20)\n",
    "plt.axis(\"off\")\n",
    "plt.show()"
   ]
  },
  {
   "cell_type": "code",
   "execution_count": 7,
   "metadata": {},
   "outputs": [
    {
     "name": "stdout",
     "output_type": "stream",
     "text": [
      "[0.4993549127042439, 0.6655013866198146, 0.5084076756751698]\n",
      "[0.4993549127042439, 0.6655013866198146, 0.5084076756751698]\n"
     ]
    }
   ],
   "source": [
    "from NEAT.neural_network import NeuralNetwork\n",
    "\n",
    "nn1 = NeuralNetwork(g1)\n",
    "nn2 = NeuralNetwork(g1)\n",
    "\n",
    "print(nn1.forward({1: 0.5, 2: 1.2}))\n",
    "print(nn2.forward({1: 0.5, 2: 1.2}))\n"
   ]
  },
  {
   "cell_type": "code",
   "execution_count": 8,
   "metadata": {},
   "outputs": [],
   "source": [
    "g2 = Genome(2, 3)\n",
    "for i in range(20):\n",
    "    g2.mutate()"
   ]
  },
  {
   "cell_type": "code",
   "execution_count": 9,
   "metadata": {},
   "outputs": [
    {
     "name": "stdout",
     "output_type": "stream",
     "text": [
      "1 INPUT\n",
      "2 INPUT\n",
      "3 OUTPUT\n",
      "4 OUTPUT\n",
      "5 OUTPUT\n",
      "6 HIDDEN\n",
      "7 HIDDEN\n",
      "8 HIDDEN\n"
     ]
    }
   ],
   "source": [
    "for i in g2.nodes.genes:\n",
    "    print(i.id, i.type)"
   ]
  },
  {
   "cell_type": "code",
   "execution_count": 10,
   "metadata": {},
   "outputs": [
    {
     "name": "stdout",
     "output_type": "stream",
     "text": [
      "(1, 3) 0.395 True 1\n",
      "(1, 4) -0.07902720000000002 True 2\n",
      "(1, 5) 1.7736576000000008 False 3\n",
      "(2, 3) -0.010382359680000005 True 4\n",
      "(2, 4) -0.008160000000000002 False 5\n",
      "(2, 5) 0.02317579264000002 True 6\n",
      "(1, 6) -0.007207759416000004 True 7\n",
      "(6, 5) -0.9382334976000007 False 8\n",
      "(6, 7) -0.9718800000000004 True 9\n",
      "(7, 5) 0.2330496000000002 False 10\n",
      "(7, 8) -2.2777200000000004 True 11\n",
      "(8, 5) 0.12383280000000009 True 12\n",
      "(1, 7) 0.08944000000000002 False 13\n"
     ]
    }
   ],
   "source": [
    "list_edges2 = []\n",
    "list_conn2 = []\n",
    "for nodes, conn in g2.connections.genes.items():\n",
    "    print(nodes, conn.Weight, conn.Enabled, conn.Innovation)\n",
    "    list_conn2.append(conn)\n",
    "    if conn.Enabled:\n",
    "        list_edges2.append(nodes)"
   ]
  },
  {
   "cell_type": "code",
   "execution_count": 11,
   "metadata": {},
   "outputs": [
    {
     "name": "stdout",
     "output_type": "stream",
     "text": [
      "1 INPUT\n",
      "2 INPUT\n",
      "3 OUTPUT\n",
      "4 OUTPUT\n",
      "5 OUTPUT\n",
      "6 HIDDEN\n",
      "7 HIDDEN\n",
      "8 HIDDEN\n"
     ]
    },
    {
     "data": {
      "image/png": "[encoded data removed]",
      "text/plain": [
       "<Figure size 640x480 with 1 Axes>"
      ]
     },
     "metadata": {},
     "output_type": "display_data"
    }
   ],
   "source": [
    "left_nodes2 = []\n",
    "middle_nodes2 = []\n",
    "right_nodes2 = []\n",
    "\n",
    "for i in g2.nodes.genes:\n",
    "    print(i.id, i.type)\n",
    "    if i.type == \"INPUT\":\n",
    "        left_nodes2.append(i.id)\n",
    "    elif i.type == \"HIDDEN\":\n",
    "        middle_nodes2.append(i.id)\n",
    "    else:   # OUTPUT\n",
    "        right_nodes2.append(i.id)\n",
    "\n",
    "pos = {n: (0, i) for i, n in enumerate(left_nodes2)}\n",
    "pos.update({n: (random.uniform(0.5, 1.5), i*random.uniform(0.5, 1.5) + 0.5) for i, n in enumerate(middle_nodes2)})\n",
    "pos.update({n: (2, i + 0.5) for i, n in enumerate(right_nodes2)})\n",
    "\n",
    "G2 = nx.DiGraph()\n",
    "G2.add_edges_from(list_edges2)\n",
    "nx.draw_networkx(G2, pos)\n",
    "\n",
    "ax = plt.gca()\n",
    "ax.margins(0.20)\n",
    "plt.axis(\"off\")\n",
    "plt.show()"
   ]
  },
  {
   "cell_type": "code",
   "execution_count": 12,
   "metadata": {},
   "outputs": [
    {
     "name": "stdout",
     "output_type": "stream",
     "text": [
      "[0.5461287455605514, 0.4901228850817558, 0.5370830000416752]\n"
     ]
    }
   ],
   "source": [
    "nn = NeuralNetwork(g2)\n",
    "\n",
    "print(nn.forward({1: 0.5, 2: 1.2}))"
   ]
  },
  {
   "cell_type": "code",
   "execution_count": 13,
   "metadata": {},
   "outputs": [],
   "source": [
    "from NEAT.species import Species\n",
    "\n",
    "g1.fitness = 1\n",
    "g2.fitness = 0.5\n",
    "\n",
    "gens = [g1, g2]"
   ]
  },
  {
   "cell_type": "code",
   "execution_count": 14,
   "metadata": {},
   "outputs": [],
   "source": [
    "s = Species(.5, gens, 1, 1, 1)\n",
    "offspring: Genome = s.cross_over(g1, g2)"
   ]
  },
  {
   "cell_type": "code",
   "execution_count": 15,
   "metadata": {},
   "outputs": [
    {
     "name": "stdout",
     "output_type": "stream",
     "text": [
      "1 INPUT\n",
      "2 INPUT\n",
      "3 OUTPUT\n",
      "4 OUTPUT\n",
      "5 OUTPUT\n",
      "6 HIDDEN\n",
      "7 HIDDEN\n",
      "8 HIDDEN\n"
     ]
    }
   ],
   "source": [
    "for i in offspring.nodes.genes:\n",
    "    print(i.id, i.type)"
   ]
  },
  {
   "cell_type": "code",
   "execution_count": 16,
   "metadata": {},
   "outputs": [
    {
     "name": "stdout",
     "output_type": "stream",
     "text": [
      "(1, 7) 0.08944000000000002 False 13\n",
      "(8, 5) 0.12383280000000009 True 12\n",
      "(7, 8) -2.2777200000000004 True 11\n",
      "(7, 5) 0.2330496000000002 False 10\n",
      "(6, 7) -0.9718800000000004 True 9\n",
      "(6, 5) -0.9382334976000007 False 8\n",
      "(1, 6) -0.007207759416000004 True 7\n",
      "(2, 5) -0.30341210368 False 6\n",
      "(2, 4) 0.6605483280000005 True 5\n",
      "(2, 3) -0.006266325929472004 True 4\n",
      "(1, 5) 0.9204626730000004 True 3\n",
      "(1, 4) -0.9467136 True 2\n",
      "(1, 3) 0.23750000000000002 False 1\n"
     ]
    }
   ],
   "source": [
    "list_edges3 = []\n",
    "for nodes, conn in offspring.connections.genes.items():\n",
    "    print(nodes, conn.Weight, conn.Enabled, conn.Innovation)\n",
    "    if conn.Enabled:\n",
    "        list_edges3.append(nodes)"
   ]
  },
  {
   "cell_type": "code",
   "execution_count": 17,
   "metadata": {},
   "outputs": [
    {
     "name": "stdout",
     "output_type": "stream",
     "text": [
      "1 INPUT\n",
      "2 INPUT\n",
      "3 OUTPUT\n",
      "4 OUTPUT\n",
      "5 OUTPUT\n",
      "6 HIDDEN\n",
      "7 HIDDEN\n",
      "8 HIDDEN\n"
     ]
    },
    {
     "data": {
      "image/png": "[encoded data removed]",
      "text/plain": [
       "<Figure size 640x480 with 1 Axes>"
      ]
     },
     "metadata": {},
     "output_type": "display_data"
    }
   ],
   "source": [
    "left_nodes3 = []\n",
    "middle_nodes3 = []\n",
    "right_nodes3 = []\n",
    "\n",
    "for i in offspring.nodes.genes:\n",
    "    print(i.id, i.type)\n",
    "    if i.type == \"INPUT\":\n",
    "        left_nodes3.append(i.id)\n",
    "    elif i.type == \"HIDDEN\":\n",
    "        middle_nodes3.append(i.id)\n",
    "    else:   # OUTPUT\n",
    "        right_nodes3.append(i.id)\n",
    "\n",
    "pos = {n: (0, i) for i, n in enumerate(left_nodes3)}\n",
    "pos.update({n: (random.uniform(0.5, 1.5), i*random.uniform(0.5, 1.5) + 0.5) for i, n in enumerate(middle_nodes3)})\n",
    "pos.update({n: (2, i + 0.5) for i, n in enumerate(right_nodes3)})\n",
    "\n",
    "G3 = nx.DiGraph()\n",
    "G3.add_edges_from(list_edges3)\n",
    "nx.draw_networkx(G3, pos)\n",
    "\n",
    "ax = plt.gca()\n",
    "ax.margins(0.20)\n",
    "plt.axis(\"off\")\n",
    "plt.show()"
   ]
  },
  {
   "cell_type": "code",
   "execution_count": 18,
   "metadata": {},
   "outputs": [
    {
     "name": "stdout",
     "output_type": "stream",
     "text": [
      "[0.4981201110792258, 0.5791539382401414, 0.867414176433322]\n"
     ]
    }
   ],
   "source": [
    "nn = NeuralNetwork(offspring)\n",
    "\n",
    "print(nn.forward({1: 0.5, 2: 1.2}))"
   ]
  }
 ],
 "metadata": {
  "kernelspec": {
   "display_name": "Python 3",
   "language": "python",
   "name": "python3"
  },
  "language_info": {
   "codemirror_mode": {
    "name": "ipython",
    "version": 3
   },
   "file_extension": ".py",
   "mimetype": "text/x-python",
   "name": "python",
   "nbconvert_exporter": "python",
   "pygments_lexer": "ipython3",
   "version": "3.9.13"
  },
  "orig_nbformat": 4
 },
 "nbformat": 4,
 "nbformat_minor": 2
}
