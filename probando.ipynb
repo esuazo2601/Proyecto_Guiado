{
 "cells": [
  {
   "cell_type": "code",
   "execution_count": 1,
   "metadata": {},
   "outputs": [],
   "source": [
    "from NEAT.genome import Genome\n",
    "\n",
    "g1 = Genome(2, 3)"
   ]
  },
  {
   "cell_type": "code",
   "execution_count": 2,
   "metadata": {},
   "outputs": [
    {
     "name": "stdout",
     "output_type": "stream",
     "text": [
      "1 INPUT\n",
      "2 INPUT\n",
      "3 OUTPUT\n",
      "4 OUTPUT\n",
      "5 OUTPUT\n"
     ]
    }
   ],
   "source": [
    "for i in g1.nodes.genes:\n",
    "    print(i.id, i.type)"
   ]
  },
  {
   "cell_type": "code",
   "execution_count": 4,
   "metadata": {},
   "outputs": [
    {
     "name": "stdout",
     "output_type": "stream",
     "text": [
      "(1, 3) 0.7686761162826534 True 1\n",
      "(1, 4) 0.028360290839186897 True 2\n",
      "(1, 5) 0.7897574563982979 True 3\n",
      "(2, 3) 0.09097669088114357 True 4\n",
      "(2, 4) 0.1988633056498076 True 5\n",
      "(2, 5) 0.5016021276238469 True 6\n"
     ]
    }
   ],
   "source": [
    "for keys, value in g1.connections.genes.items():\n",
    "    print(keys, value.Weight, value.Enabled, value.Innovation)"
   ]
  },
  {
   "cell_type": "code",
   "execution_count": 5,
   "metadata": {},
   "outputs": [
    {
     "data": {
      "text/plain": [
       "0.5016021276238469"
      ]
     },
     "execution_count": 5,
     "metadata": {},
     "output_type": "execute_result"
    }
   ],
   "source": [
    "value.Weight"
   ]
  },
  {
   "cell_type": "code",
   "execution_count": 6,
   "metadata": {},
   "outputs": [
    {
     "data": {
      "text/plain": [
       "<NEAT.node_genes.Genes at 0x1e2bf02cee0>"
      ]
     },
     "execution_count": 6,
     "metadata": {},
     "output_type": "execute_result"
    }
   ],
   "source": [
    "g1.connections.mutate_add_node(value)"
   ]
  },
  {
   "cell_type": "code",
   "execution_count": 7,
   "metadata": {},
   "outputs": [
    {
     "name": "stdout",
     "output_type": "stream",
     "text": [
      "(1, 3) 0.7686761162826534 True 1\n",
      "(1, 4) 0.028360290839186897 True 2\n",
      "(1, 5) 0.7897574563982979 True 3\n",
      "(2, 3) 0.09097669088114357 True 4\n",
      "(2, 4) 0.1988633056498076 True 5\n",
      "(2, 5) 0.5016021276238469 False 6\n",
      "(2, 6) 0.5016021276238469 True 7\n",
      "(6, 5) 1 True 8\n"
     ]
    }
   ],
   "source": [
    "for keys, value in g1.connections.genes.items():\n",
    "    print(keys, value.Weight, value.Enabled, value.Innovation)"
   ]
  }
 ],
 "metadata": {
  "kernelspec": {
   "display_name": "Python 3",
   "language": "python",
   "name": "python3"
  },
  "language_info": {
   "codemirror_mode": {
    "name": "ipython",
    "version": 3
   },
   "file_extension": ".py",
   "mimetype": "text/x-python",
   "name": "python",
   "nbconvert_exporter": "python",
   "pygments_lexer": "ipython3",
   "version": "3.9.13"
  },
  "orig_nbformat": 4
 },
 "nbformat": 4,
 "nbformat_minor": 2
}
