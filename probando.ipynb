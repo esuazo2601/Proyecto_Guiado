{
 "cells": [
  {
   "cell_type": "code",
   "execution_count": null,
   "metadata": {},
   "outputs": [],
   "source": [
    "import networkx as nx\n",
    "import matplotlib.pyplot as plt\n",
    "import random"
   ]
  },
  {
   "cell_type": "code",
   "execution_count": null,
   "metadata": {},
   "outputs": [],
   "source": [
    "from NEAT.genome import Genome\n",
    "\n",
    "g1 = Genome(2, 3)"
   ]
  },
  {
   "cell_type": "code",
   "execution_count": null,
   "metadata": {},
   "outputs": [],
   "source": [
    "for i in range(20):\n",
    "    g1.mutate()"
   ]
  },
  {
   "cell_type": "code",
   "execution_count": null,
   "metadata": {},
   "outputs": [],
   "source": [
    "for i in g1.nodes.genes:\n",
    "    print(i.id, i.type)"
   ]
  },
  {
   "cell_type": "code",
   "execution_count": null,
   "metadata": {},
   "outputs": [],
   "source": [
    "list_edges = []\n",
    "for nodes, conn in g1.connections.genes.items():\n",
    "    print(nodes, conn.Weight, conn.Enabled, conn.Innovation)\n",
    "    if conn.Enabled:\n",
    "        list_edges.append(nodes)"
   ]
  },
  {
   "cell_type": "code",
   "execution_count": null,
   "metadata": {},
   "outputs": [],
   "source": [
    "left_nodes = []\n",
    "middle_nodes = []\n",
    "right_nodes = []\n",
    "\n",
    "for i in g1.nodes.genes:\n",
    "    print(i.id, i.type)\n",
    "    if i.type == \"INPUT\":\n",
    "        left_nodes.append(i.id)\n",
    "    elif i.type == \"HIDDEN\":\n",
    "        middle_nodes.append(i.id)\n",
    "    else:   # OUTPUT\n",
    "        right_nodes.append(i.id)\n",
    "\n",
    "pos = {n: (0, i) for i, n in enumerate(left_nodes)}\n",
    "pos.update({n: (random.uniform(0.5, 1.5), i*random.uniform(0.5, 1.5) + 0.5) for i, n in enumerate(middle_nodes)})\n",
    "pos.update({n: (2, i + 0.5) for i, n in enumerate(right_nodes)})\n",
    "\n",
    "G = nx.DiGraph()\n",
    "G.add_edges_from(list_edges)\n",
    "nx.draw_networkx(G, pos)\n",
    "\n",
    "ax = plt.gca()\n",
    "ax.margins(0.20)\n",
    "plt.axis(\"off\")\n",
    "plt.show()"
   ]
  },
  {
   "cell_type": "code",
   "execution_count": null,
   "metadata": {},
   "outputs": [],
   "source": [
    "g2 = Genome(2, 3)\n",
    "for i in range(20):\n",
    "    g2.mutate()"
   ]
  },
  {
   "cell_type": "code",
   "execution_count": null,
   "metadata": {},
   "outputs": [],
   "source": [
    "for i in g2.nodes.genes:\n",
    "    print(i.id, i.type)"
   ]
  },
  {
   "cell_type": "code",
   "execution_count": null,
   "metadata": {},
   "outputs": [],
   "source": [
    "list_edges2 = []\n",
    "list_conn2 = []\n",
    "for nodes, conn in g2.connections.genes.items():\n",
    "    print(nodes, conn.Weight, conn.Enabled, conn.Innovation)\n",
    "    list_conn2.append(conn)\n",
    "    if conn.Enabled:\n",
    "        list_edges2.append(nodes)"
   ]
  },
  {
   "cell_type": "code",
   "execution_count": null,
   "metadata": {},
   "outputs": [],
   "source": [
    "left_nodes2 = []\n",
    "middle_nodes2 = []\n",
    "right_nodes2 = []\n",
    "\n",
    "for i in g2.nodes.genes:\n",
    "    print(i.id, i.type)\n",
    "    if i.type == \"INPUT\":\n",
    "        left_nodes2.append(i.id)\n",
    "    elif i.type == \"HIDDEN\":\n",
    "        middle_nodes2.append(i.id)\n",
    "    else:   # OUTPUT\n",
    "        right_nodes2.append(i.id)\n",
    "\n",
    "pos = {n: (0, i) for i, n in enumerate(left_nodes2)}\n",
    "pos.update({n: (random.uniform(0.5, 1.5), i*random.uniform(0.5, 1.5) + 0.5) for i, n in enumerate(middle_nodes2)})\n",
    "pos.update({n: (2, i + 0.5) for i, n in enumerate(right_nodes2)})\n",
    "\n",
    "G2 = nx.DiGraph()\n",
    "G2.add_edges_from(list_edges2)\n",
    "nx.draw_networkx(G2, pos)\n",
    "\n",
    "ax = plt.gca()\n",
    "ax.margins(0.20)\n",
    "plt.axis(\"off\")\n",
    "plt.show()"
   ]
  },
  {
   "cell_type": "code",
   "execution_count": null,
   "metadata": {},
   "outputs": [],
   "source": [
    "from NEAT.species import Species\n",
    "\n",
    "g1.fitness = 1\n",
    "g2.fitness = 0.5\n",
    "\n",
    "gens = [g1, g2]"
   ]
  },
  {
   "cell_type": "code",
   "execution_count": null,
   "metadata": {},
   "outputs": [],
   "source": [
    "s = Species(.5, gens, 1, 1, 1)\n",
    "offspring: Genome = s.cross_over(g1, g2)"
   ]
  },
  {
   "cell_type": "code",
   "execution_count": null,
   "metadata": {},
   "outputs": [],
   "source": [
    "for i in offspring.nodes.genes:\n",
    "    print(i.id, i.type)"
   ]
  },
  {
   "cell_type": "code",
   "execution_count": null,
   "metadata": {},
   "outputs": [],
   "source": [
    "list_edges3 = []\n",
    "for nodes, conn in offspring.connections.genes.items():\n",
    "    print(nodes, conn.Weight, conn.Enabled, conn.Innovation)\n",
    "    if conn.Enabled:\n",
    "        list_edges3.append(nodes)"
   ]
  },
  {
   "cell_type": "code",
   "execution_count": null,
   "metadata": {},
   "outputs": [],
   "source": [
    "left_nodes3 = []\n",
    "middle_nodes3 = []\n",
    "right_nodes3 = []\n",
    "\n",
    "for i in offspring.nodes.genes:\n",
    "    print(i.id, i.type)\n",
    "    if i.type == \"INPUT\":\n",
    "        left_nodes3.append(i.id)\n",
    "    elif i.type == \"HIDDEN\":\n",
    "        middle_nodes3.append(i.id)\n",
    "    else:   # OUTPUT\n",
    "        right_nodes3.append(i.id)\n",
    "\n",
    "pos = {n: (0, i) for i, n in enumerate(left_nodes3)}\n",
    "pos.update({n: (random.uniform(0.5, 1.5), i*random.uniform(0.5, 1.5) + 0.5) for i, n in enumerate(middle_nodes3)})\n",
    "pos.update({n: (2, i + 0.5) for i, n in enumerate(right_nodes3)})\n",
    "\n",
    "G3 = nx.DiGraph()\n",
    "G3.add_edges_from(list_edges3)\n",
    "nx.draw_networkx(G3, pos)\n",
    "\n",
    "ax = plt.gca()\n",
    "ax.margins(0.20)\n",
    "plt.axis(\"off\")\n",
    "plt.show()"
   ]
  }
 ],
 "metadata": {
  "kernelspec": {
   "display_name": "Python 3",
   "language": "python",
   "name": "python3"
  },
  "language_info": {
   "codemirror_mode": {
    "name": "ipython",
    "version": 3
   },
   "file_extension": ".py",
   "mimetype": "text/x-python",
   "name": "python",
   "nbconvert_exporter": "python",
   "pygments_lexer": "ipython3",
   "version": "3.9.13"
  },
  "orig_nbformat": 4
 },
 "nbformat": 4,
 "nbformat_minor": 2
}
